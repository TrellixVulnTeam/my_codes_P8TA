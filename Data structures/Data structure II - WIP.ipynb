{
 "cells": [
  {
   "cell_type": "markdown",
   "metadata": {},
   "source": [
    "## Data Strcutures II - Building methods for known data structures"
   ]
  },
  {
   "cell_type": "markdown",
   "metadata": {},
   "source": [
    "What makes Data structures a diverse topic is the efficiency of different traversal/transformative/operational methods which is specific to data structures they are used for. Example, searches are the fatest with json as the index itself is the key to recognize the data set. The notebook will explore different methods applicability within the data structures and undestand its strengths or weakness. \n",
    "\n",
    "The notebook may create custom classes instead of the data structures to communicate the idead of how the methods are implemented. It merely aims at fleshing out the psuedo code (or) simplfying the in the more abstracted default methods which may be hard to understand as a concept\n",
    "\n",
    "### Exploring Array methods\n",
    "\n",
    "#### Constructing Default classes and methods"
   ]
  },
  {
   "cell_type": "markdown",
   "metadata": {},
   "source": [
    "class array:\n",
    "    r\n"
   ]
  },
  {
   "cell_type": "markdown",
   "metadata": {},
   "source": [
    "#### Searching"
   ]
  },
  {
   "cell_type": "code",
   "execution_count": null,
   "metadata": {},
   "outputs": [],
   "source": []
  }
 ],
 "metadata": {
  "kernelspec": {
   "display_name": "Python 3",
   "language": "python",
   "name": "python3"
  },
  "language_info": {
   "codemirror_mode": {
    "name": "ipython",
    "version": 3
   },
   "file_extension": ".py",
   "mimetype": "text/x-python",
   "name": "python",
   "nbconvert_exporter": "python",
   "pygments_lexer": "ipython3",
   "version": "3.8.3"
  }
 },
 "nbformat": 4,
 "nbformat_minor": 4
}
