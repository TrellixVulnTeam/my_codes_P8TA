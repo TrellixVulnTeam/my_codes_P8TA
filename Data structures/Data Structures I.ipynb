{
 "cells": [
  {
   "cell_type": "markdown",
   "metadata": {},
   "source": [
    "## Back2basics: Algorithms and Data Structures\n",
    "\n",
    "Data structures is more about how the data is stored/ organized. Classes, and custom data structures always exists. The below notebook will talk about more default data structures in place."
   ]
  },
  {
   "cell_type": "markdown",
   "metadata": {},
   "source": [
    "### Complexity Notations"
   ]
  },
  {
   "cell_type": "markdown",
   "metadata": {},
   "source": [
    "Three scenarios are used to compute BIG O Notations \n",
    "\n",
    "i) BIG O - Worst case run time complexity of algorithms\n",
    "\n",
    "ii) Theta - average run time complexity of algorithms\n",
    "\n",
    "iii) Omega - Best run time complexity of algorithms"
   ]
  },
  {
   "cell_type": "code",
   "execution_count": 2,
   "metadata": {},
   "outputs": [],
   "source": [
    "import numpy as np"
   ]
  },
  {
   "cell_type": "markdown",
   "metadata": {},
   "source": [
    "### Known data structures\n",
    "\n",
    "#### Array\n",
    "\n",
    "Collection of **Homogenous** elements.\n",
    "\n",
    "Mutable? - Yes\n",
    "\n",
    "Indexable - Yes. Index starts at 0 for python. Last index for n-sized array is n-1 or -1\n",
    "\n",
    "Retains Order - Yes"
   ]
  },
  {
   "cell_type": "code",
   "execution_count": 14,
   "metadata": {},
   "outputs": [
    {
     "name": "stdout",
     "output_type": "stream",
     "text": [
      "[1 2 3 4 5]\n",
      "<class 'numpy.ndarray'>\n",
      "first element: 1\n",
      "last element: 5\n",
      "last element again: 5\n"
     ]
    }
   ],
   "source": [
    "a= np.array([1,2,3,4,5])\n",
    "print(a)\n",
    "print(type(a))\n",
    "print('first element: '+str(a[0]))\n",
    "print('last element: '+str(a[4]))\n",
    "print('last element again: '+str(a[-1]))"
   ]
  },
  {
   "cell_type": "markdown",
   "metadata": {},
   "source": [
    "Enforces homogenity."
   ]
  },
  {
   "cell_type": "code",
   "execution_count": 15,
   "metadata": {},
   "outputs": [
    {
     "name": "stdout",
     "output_type": "stream",
     "text": [
      "['1' '2' '3' '/']\n"
     ]
    }
   ],
   "source": [
    "b=np.array([1,'2',3,'/']) \n",
    "print(b)"
   ]
  },
  {
   "cell_type": "markdown",
   "metadata": {},
   "source": [
    "#### List \n",
    "\n",
    "Collection of *Heterogenous* elements. Generalized class of an array \n",
    "\n",
    "Mutable? - Yes\n",
    "\n",
    "Indexable - Yes\n",
    "\n",
    "Retains Order - Yes"
   ]
  },
  {
   "cell_type": "code",
   "execution_count": 17,
   "metadata": {},
   "outputs": [
    {
     "name": "stdout",
     "output_type": "stream",
     "text": [
      "[1, '2', 3, '/', {'key': 'value'}]\n",
      "<class 'list'>\n"
     ]
    }
   ],
   "source": [
    "list1=[1,'2',3,'/',{\"key\":\"value\"}]\n",
    "print(list1)\n",
    "print(type(list1))"
   ]
  },
  {
   "cell_type": "markdown",
   "metadata": {},
   "source": [
    "#### Dictionary\n",
    "\n",
    "Key value pair mappings. Stores items as a list of key and value mappings. Key are unique. Pythong does recognize \"\" as a valid key\n",
    "\n",
    "Mutable: Yes\n",
    "\n",
    "Indexable: Keys are indexes. Easiest for searches. O(0) search\n",
    "\n",
    "Retains order- N/A since indexes remain fixed and dont have an order"
   ]
  },
  {
   "cell_type": "code",
   "execution_count": 41,
   "metadata": {},
   "outputs": [],
   "source": [
    "json_1={'Name':'xyz','DOB':22,'MOB':'Feb',\"w_n_h\":[88.0,199.0],'is_person':True,'':'blank values are held in json',\\\n",
    "        \"Name\":'new_value held because xyz was replaced',0:'numeric','0':'Non_numeric',True:'binary values are held in json'}"
   ]
  },
  {
   "cell_type": "code",
   "execution_count": 42,
   "metadata": {},
   "outputs": [
    {
     "name": "stdout",
     "output_type": "stream",
     "text": [
      "key Name holds value new_value held because xyz was replaced\n",
      "key DOB holds value 22\n",
      "key MOB holds value Feb\n",
      "key w_n_h holds value [88.0, 199.0]\n",
      "key is_person holds value True\n",
      "key  holds value blank values are held in json\n",
      "key 0 holds value numeric\n",
      "key 0 holds value Non_numeric\n",
      "key True holds value binary values are held in json\n"
     ]
    }
   ],
   "source": [
    "for key in json_1:\n",
    "    print('key '+ str(key)+ \" holds value\",end=' ')\n",
    "    print(json_1[key])"
   ]
  },
  {
   "cell_type": "markdown",
   "metadata": {},
   "source": [
    "#### Tuples\n",
    "\n",
    "Tuples are immutable lists. The immutability makes it faster to traverse them.\n",
    "\n",
    "Mutable? - No\n",
    "\n",
    "Indexable - Yes\n",
    "\n",
    "Retains Order - Yes"
   ]
  },
  {
   "cell_type": "code",
   "execution_count": 101,
   "metadata": {},
   "outputs": [
    {
     "name": "stdout",
     "output_type": "stream",
     "text": [
      "('a', 'b', 1, 2, 1992.22, {'number': 1, 'month': 'December'})\n"
     ]
    },
    {
     "ename": "AttributeError",
     "evalue": "'tuple' object has no attribute 'extend'",
     "output_type": "error",
     "traceback": [
      "\u001b[1;31m---------------------------------------------------------------------------\u001b[0m",
      "\u001b[1;31mAttributeError\u001b[0m                            Traceback (most recent call last)",
      "\u001b[1;32m<ipython-input-101-d3017aad95c3>\u001b[0m in \u001b[0;36m<module>\u001b[1;34m\u001b[0m\n\u001b[0;32m      1\u001b[0m \u001b[0mtuple_1\u001b[0m\u001b[1;33m=\u001b[0m\u001b[1;33m(\u001b[0m\u001b[1;34m'a'\u001b[0m\u001b[1;33m,\u001b[0m\u001b[1;34m'b'\u001b[0m\u001b[1;33m,\u001b[0m\u001b[1;36m1\u001b[0m\u001b[1;33m,\u001b[0m\u001b[1;36m2\u001b[0m\u001b[1;33m,\u001b[0m\u001b[1;36m1992.22\u001b[0m\u001b[1;33m,\u001b[0m\u001b[1;33m{\u001b[0m\u001b[1;34m\"number\"\u001b[0m\u001b[1;33m:\u001b[0m\u001b[1;36m1\u001b[0m\u001b[1;33m,\u001b[0m\u001b[1;34m\"month\"\u001b[0m\u001b[1;33m:\u001b[0m\u001b[1;34m\"December\"\u001b[0m\u001b[1;33m}\u001b[0m\u001b[1;33m)\u001b[0m\u001b[1;33m\u001b[0m\u001b[1;33m\u001b[0m\u001b[0m\n\u001b[0;32m      2\u001b[0m \u001b[0mprint\u001b[0m\u001b[1;33m(\u001b[0m\u001b[0mtuple_1\u001b[0m\u001b[1;33m)\u001b[0m\u001b[1;33m\u001b[0m\u001b[1;33m\u001b[0m\u001b[0m\n\u001b[1;32m----> 3\u001b[1;33m \u001b[0mtuple_1\u001b[0m\u001b[1;33m.\u001b[0m\u001b[0mextend\u001b[0m\u001b[1;33m(\u001b[0m\u001b[1;34m'c'\u001b[0m\u001b[1;33m)\u001b[0m\u001b[1;33m\u001b[0m\u001b[1;33m\u001b[0m\u001b[0m\n\u001b[0m",
      "\u001b[1;31mAttributeError\u001b[0m: 'tuple' object has no attribute 'extend'"
     ]
    }
   ],
   "source": [
    "tuple_1=('a','b',1,2,1992.22,{\"number\":1,\"month\":\"December\"})\n",
    "print(tuple_1)\n",
    "tuple_1.append('c')"
   ]
  },
  {
   "cell_type": "markdown",
   "metadata": {},
   "source": [
    "Lack of a method is the best way to show tuple mutability. The below code will make it feel as if tuple is mutable.However, tuple_1 created after the assignment is a new copy of the tuple and **is not an inplace assignment of the tuple**"
   ]
  },
  {
   "cell_type": "code",
   "execution_count": 103,
   "metadata": {},
   "outputs": [
    {
     "name": "stdout",
     "output_type": "stream",
     "text": [
      "('a', 'b', 1, 2, 1992.22, {'number': 1, 'month': 'December'}, 'z', 1, 'z', 1)\n"
     ]
    }
   ],
   "source": [
    "tuple_1+=('z',1)\n",
    "print(tuple_1)"
   ]
  },
  {
   "cell_type": "markdown",
   "metadata": {},
   "source": [
    "#### Sets\n",
    "\n",
    "Sets are deduplicated immutable tuples. They do not retain their original indexing order once they are converted to sets, even if they are no deduplicate items. This is because they are ordered on the basis of hashed elements\n",
    "\n",
    "Mutable? - No\n",
    "\n",
    "Indexable - Yes\n",
    "\n",
    "Retains Order - No"
   ]
  },
  {
   "cell_type": "code",
   "execution_count": 91,
   "metadata": {},
   "outputs": [
    {
     "name": "stdout",
     "output_type": "stream",
     "text": [
      "original list is ['best best', 'x', 1, 'x', 2, 3, 5, 'a', 2, 19292.222, 'name is', -999, 19292.222, 3]\n",
      "When modified to set it prints as {1, 2, 3, 'a', 5, 'name is', 'x', -999, 'best best', 19292.222}\n"
     ]
    }
   ],
   "source": [
    "list_1=[\"best best\",\"x\",1,\"x\",2,3,5,'a',2,19292.222,'name is',-999,19292.222]\n",
    "list_1.append(3)\n",
    "print('original list is ',end='')\n",
    "print(list_1)\n",
    "set_1=set(list_1)\n",
    "print('When modified to set it prints as ',end='')\n",
    "print(set_1)"
   ]
  },
  {
   "cell_type": "markdown",
   "metadata": {},
   "source": [
    "#### Enumerators\n",
    "\n",
    "Enumerators are data structures which store indices along with values. Enums are useful while traversing a list, by both element and index\n",
    "\n",
    "Enumerators are not mutable. Within, python they are a generators. Generators are structures which throw out values one at a time. \n",
    "\n",
    "Mutable? - No\n",
    "\n",
    "Indexable - Yes\n",
    "\n",
    "Retains Order - Yes"
   ]
  },
  {
   "cell_type": "code",
   "execution_count": 60,
   "metadata": {},
   "outputs": [
    {
     "name": "stdout",
     "output_type": "stream",
     "text": [
      "<enumerate object at 0x0000016020E0AD00>\n",
      "step 0 is stop\n",
      "step 1 is wait\n",
      "step 2 is look\n",
      "step 3 is on green\n",
      "step 4 is go\n"
     ]
    }
   ],
   "source": [
    "enum_1=enumerate(['stop','wait','look','on green','go'],)\n",
    "print(enum_1)\n",
    "for rownum,val in enum_1:\n",
    "    print(\"step \" + str(rownum) +' is '+ val)"
   ]
  },
  {
   "cell_type": "markdown",
   "metadata": {},
   "source": [
    "#### Generators\n",
    "\n",
    "Generators are stuctures that throw out a value one at a time. We insitinctively use it while running through for loops. Generators are travesered by next\n",
    "\n",
    "Generators are not subscritable/indexable\n",
    "\n",
    "For every iteration, after every iteration the value of generator gets lost"
   ]
  },
  {
   "cell_type": "code",
   "execution_count": 76,
   "metadata": {},
   "outputs": [
    {
     "data": {
      "text/plain": [
       "(0, 'stop')"
      ]
     },
     "execution_count": 76,
     "metadata": {},
     "output_type": "execute_result"
    }
   ],
   "source": [
    "enum_1=enumerate(['stop','wait','look','on green','go'],)\n",
    "\n",
    "next(enum_1)"
   ]
  },
  {
   "cell_type": "code",
   "execution_count": 77,
   "metadata": {},
   "outputs": [
    {
     "data": {
      "text/plain": [
       "(1, 'wait')"
      ]
     },
     "execution_count": 77,
     "metadata": {},
     "output_type": "execute_result"
    }
   ],
   "source": [
    "next(enum_1)"
   ]
  },
  {
   "cell_type": "code",
   "execution_count": 78,
   "metadata": {},
   "outputs": [
    {
     "name": "stdout",
     "output_type": "stream",
     "text": [
      "[(2, 'look'), (3, 'on green'), (4, 'go')]\n"
     ]
    }
   ],
   "source": [
    "print(list(enum_1))"
   ]
  },
  {
   "cell_type": "code",
   "execution_count": 79,
   "metadata": {},
   "outputs": [
    {
     "ename": "StopIteration",
     "evalue": "",
     "output_type": "error",
     "traceback": [
      "\u001b[1;31m---------------------------------------------------------------------------\u001b[0m",
      "\u001b[1;31mStopIteration\u001b[0m                             Traceback (most recent call last)",
      "\u001b[1;32m<ipython-input-79-43e999b43b85>\u001b[0m in \u001b[0;36m<module>\u001b[1;34m\u001b[0m\n\u001b[1;32m----> 1\u001b[1;33m \u001b[0mnext\u001b[0m\u001b[1;33m(\u001b[0m\u001b[0menum_1\u001b[0m\u001b[1;33m)\u001b[0m\u001b[1;33m\u001b[0m\u001b[1;33m\u001b[0m\u001b[0m\n\u001b[0m",
      "\u001b[1;31mStopIteration\u001b[0m: "
     ]
    }
   ],
   "source": [
    "next(enum_1)"
   ]
  }
 ],
 "metadata": {
  "kernelspec": {
   "display_name": "Python 3",
   "language": "python",
   "name": "python3"
  },
  "language_info": {
   "codemirror_mode": {
    "name": "ipython",
    "version": 3
   },
   "file_extension": ".py",
   "mimetype": "text/x-python",
   "name": "python",
   "nbconvert_exporter": "python",
   "pygments_lexer": "ipython3",
   "version": "3.8.3"
  }
 },
 "nbformat": 4,
 "nbformat_minor": 4
}
